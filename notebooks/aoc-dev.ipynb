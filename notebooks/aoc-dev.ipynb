{
 "cells": [
  {
   "cell_type": "markdown",
   "metadata": {},
   "source": [
    "# AOC"
   ]
  },
  {
   "cell_type": "code",
   "execution_count": 1,
   "metadata": {},
   "outputs": [],
   "source": [
    "import sys  \n",
    "sys.path.insert(0, '../')\n",
    "\n",
    "import aoc\n",
    "\n",
    "from importlib import reload\n",
    "reload(aoc)\n",
    "import aoc"
   ]
  },
  {
   "cell_type": "markdown",
   "metadata": {},
   "source": [
    "# Day 1"
   ]
  },
  {
   "cell_type": "code",
   "execution_count": 2,
   "metadata": {},
   "outputs": [],
   "source": [
    "test = aoc.read_data(1, 'test')\n",
    "test_out = aoc.read_data(1, 'test-output')\n",
    "input_data = aoc.read_data(1, 'input')"
   ]
  },
  {
   "cell_type": "code",
   "execution_count": 3,
   "metadata": {},
   "outputs": [],
   "source": [
    "elf_group = aoc.get_elf_calorie_inventory(test)\n",
    "assert aoc.ask_who_has_most(elf_group) == float(test_out[0])"
   ]
  },
  {
   "cell_type": "code",
   "execution_count": 4,
   "metadata": {},
   "outputs": [],
   "source": [
    "elf_group = aoc.get_elf_calorie_inventory(input_data)\n",
    "assert aoc.ask_who_has_most(elf_group) == 71502"
   ]
  },
  {
   "cell_type": "code",
   "execution_count": 5,
   "metadata": {},
   "outputs": [],
   "source": [
    "assert aoc.ask_who_has_most(elf_group, 3) == 208191"
   ]
  },
  {
   "cell_type": "markdown",
   "metadata": {},
   "source": [
    "# Day 2"
   ]
  },
  {
   "cell_type": "code",
   "execution_count": 6,
   "metadata": {},
   "outputs": [],
   "source": [
    "test = aoc.read_data(2, 'test')\n",
    "test_out = aoc.read_data(2, 'test-output')\n",
    "input_data = aoc.read_data(2, 'input')"
   ]
  },
  {
   "cell_type": "code",
   "execution_count": 7,
   "metadata": {},
   "outputs": [
    {
     "data": {
      "text/plain": [
       "13526"
      ]
     },
     "execution_count": 7,
     "metadata": {},
     "output_type": "execute_result"
    }
   ],
   "source": [
    "assert aoc.RockPaperScissors(test).right_player == int(test_out[0])\n",
    "aoc.RockPaperScissors(input_data).right_player"
   ]
  },
  {
   "cell_type": "code",
   "execution_count": 8,
   "metadata": {},
   "outputs": [],
   "source": [
    "g = aoc.RockPaperScissors(test)\n",
    "g.play_strategy_game()\n",
    "assert g.right_player == 12"
   ]
  },
  {
   "cell_type": "code",
   "execution_count": 9,
   "metadata": {},
   "outputs": [],
   "source": [
    "g = aoc.RockPaperScissors(input_data)\n",
    "g.play_strategy_game()\n",
    "assert g.right_player == 14204"
   ]
  },
  {
   "cell_type": "markdown",
   "metadata": {},
   "source": [
    "# Day 3"
   ]
  },
  {
   "cell_type": "code",
   "execution_count": 10,
   "metadata": {},
   "outputs": [],
   "source": [
    "test = aoc.read_data(3, 'test') #157\n",
    "input_data = aoc.read_data(3, 'input')"
   ]
  },
  {
   "cell_type": "code",
   "execution_count": 11,
   "metadata": {},
   "outputs": [
    {
     "name": "stdout",
     "output_type": "stream",
     "text": [
      "priority total  157\n",
      "priority total  7568\n"
     ]
    }
   ],
   "source": [
    "test_out_, test_priority = aoc.organize_sacks(test)\n",
    "assert test_priority == 157\n",
    "in_out_, input_priority = aoc.organize_sacks(input_data)"
   ]
  },
  {
   "cell_type": "code",
   "execution_count": 12,
   "metadata": {},
   "outputs": [
    {
     "name": "stdout",
     "output_type": "stream",
     "text": [
      "badge total  70\n",
      "badge total  2780\n"
     ]
    }
   ],
   "source": [
    "test_grp_out_, test_badge_total = aoc.get_total_badges(test_out_)\n",
    "assert test_badge_total == 70\n",
    "in_grp_out_, input_badge_total = aoc.get_total_badges(in_out_)"
   ]
  },
  {
   "cell_type": "markdown",
   "metadata": {},
   "source": [
    "# Day 4"
   ]
  },
  {
   "cell_type": "code",
   "execution_count": 13,
   "metadata": {},
   "outputs": [],
   "source": [
    "test = aoc.read_data(4, 'test') #2\n",
    "input_data = aoc.read_data(4, 'input') "
   ]
  },
  {
   "cell_type": "code",
   "execution_count": 14,
   "metadata": {},
   "outputs": [
    {
     "name": "stdout",
     "output_type": "stream",
     "text": [
      "total contained assignments  2\n",
      "total overlapped assignments  4\n",
      "total contained assignments  453\n",
      "total overlapped assignments  919\n"
     ]
    }
   ],
   "source": [
    "clean_test_out, test_assignments = aoc.process_assignments(test)\n",
    "assert test_assignments[0] == 2\n",
    "assert test_assignments[1] == 4\n",
    "clean_input_out, input_assignments = aoc.process_assignments(input_data)"
   ]
  },
  {
   "cell_type": "markdown",
   "metadata": {},
   "source": [
    "# Day 5"
   ]
  },
  {
   "cell_type": "code",
   "execution_count": 15,
   "metadata": {},
   "outputs": [],
   "source": [
    "test = aoc.read_data(5, 'test') #CMZ\n",
    "input_data = aoc.read_data(5, 'input') "
   ]
  },
  {
   "cell_type": "code",
   "execution_count": 16,
   "metadata": {},
   "outputs": [],
   "source": [
    "c = aoc.CrateCrane(test)\n",
    "c.complete_movement()\n",
    "assert c.top_boxes == 'CMZ'\n",
    "\n",
    "i = aoc.CrateCrane(input_data)\n",
    "i.complete_movement()\n",
    "assert i.top_boxes == 'FWNSHLDNZ'"
   ]
  },
  {
   "cell_type": "code",
   "execution_count": 17,
   "metadata": {},
   "outputs": [],
   "source": [
    "c = aoc.CrateCrane(test, False)\n",
    "c.complete_movement()\n",
    "assert c.top_boxes == 'MCD'"
   ]
  },
  {
   "cell_type": "code",
   "execution_count": 18,
   "metadata": {},
   "outputs": [],
   "source": [
    "i = aoc.CrateCrane(input_data, False)\n",
    "i.complete_movement()\n",
    "assert i.top_boxes == 'RNRGDNFQG'"
   ]
  },
  {
   "cell_type": "markdown",
   "metadata": {},
   "source": [
    "# Day 6"
   ]
  },
  {
   "cell_type": "code",
   "execution_count": 19,
   "metadata": {},
   "outputs": [],
   "source": [
    "test = aoc.read_data(6, 'test') #7, 5, 6, 10, 11\n",
    "input_data = aoc.read_data(6, 'input') "
   ]
  },
  {
   "cell_type": "code",
   "execution_count": 20,
   "metadata": {},
   "outputs": [],
   "source": [
    "assert aoc.CommunicationDevice(test[0]).marker_detection == 7\n",
    "assert aoc.CommunicationDevice(test[1]).marker_detection == 5\n",
    "assert aoc.CommunicationDevice(test[2]).marker_detection == 6\n",
    "assert aoc.CommunicationDevice(test[3]).marker_detection == 10\n",
    "assert aoc.CommunicationDevice(test[4]).marker_detection == 11\n",
    "\n",
    "#final\n",
    "assert aoc.CommunicationDevice(input_data[0]).marker_detection == 1909"
   ]
  },
  {
   "cell_type": "code",
   "execution_count": 21,
   "metadata": {},
   "outputs": [],
   "source": [
    "assert aoc.CommunicationDevice(test[0]).message_detection == 19\n",
    "assert aoc.CommunicationDevice(test[1]).message_detection == 23\n",
    "assert aoc.CommunicationDevice(test[2]).message_detection == 23\n",
    "assert aoc.CommunicationDevice(test[3]).message_detection == 29\n",
    "assert aoc.CommunicationDevice(test[4]).message_detection == 26\n",
    "\n",
    "#final\n",
    "assert aoc.CommunicationDevice(input_data[0]).message_detection == 3380"
   ]
  },
  {
   "cell_type": "markdown",
   "metadata": {},
   "source": [
    "# Day 7"
   ]
  },
  {
   "cell_type": "code",
   "execution_count": 22,
   "metadata": {},
   "outputs": [],
   "source": [
    "test = aoc.read_data(7, 'test') #95437\n",
    "input_data = aoc.read_data(7, 'input') "
   ]
  },
  {
   "cell_type": "code",
   "execution_count": 23,
   "metadata": {},
   "outputs": [],
   "source": [
    "t = aoc.FileSystem(test)\n",
    "assert sum(t.get_total_size_limit()) == 95437\n",
    "assert t.get_delete_size() == 24933642 \n",
    "\n",
    "f = aoc.FileSystem(input_data)\n",
    "assert sum(f.get_total_size_limit()) == 2104783  # 2104783\n",
    "assert f.get_delete_size() == 5883165 #5883165"
   ]
  },
  {
   "cell_type": "markdown",
   "metadata": {},
   "source": [
    "# Day 8"
   ]
  },
  {
   "cell_type": "code",
   "execution_count": 24,
   "metadata": {},
   "outputs": [],
   "source": [
    "test = aoc.read_data(8, 'test') #21\n",
    "input_data = aoc.read_data(8, 'input') "
   ]
  },
  {
   "cell_type": "code",
   "execution_count": 25,
   "metadata": {},
   "outputs": [],
   "source": [
    "t = aoc.TreeMap(test)\n",
    "assert t.num_vis == 21\n",
    "\n",
    "f = aoc.TreeMap(input_data)\n",
    "assert f.num_vis == 1787"
   ]
  },
  {
   "cell_type": "code",
   "execution_count": 26,
   "metadata": {},
   "outputs": [],
   "source": [
    "assert t.map_dict[(1, 2)]['sceneCount'] == 4\n",
    "assert t.map_dict[(3, 2)]['sceneCount'] == 8\n",
    "assert t.map_dict[(0, 0)]['sceneCount'] == 0\n",
    "\n",
    "assert t.get_highest_scene() == 8\n",
    "assert f.get_highest_scene() == 440640"
   ]
  },
  {
   "cell_type": "markdown",
   "metadata": {},
   "source": [
    "# Day 9 "
   ]
  },
  {
   "cell_type": "code",
   "execution_count": null,
   "metadata": {},
   "outputs": [],
   "source": []
  }
 ],
 "metadata": {
  "kernelspec": {
   "display_name": "Python 3 (ipykernel)",
   "language": "python",
   "name": "python3"
  },
  "language_info": {
   "codemirror_mode": {
    "name": "ipython",
    "version": 3
   },
   "file_extension": ".py",
   "mimetype": "text/x-python",
   "name": "python",
   "nbconvert_exporter": "python",
   "pygments_lexer": "ipython3",
   "version": "3.10.8"
  }
 },
 "nbformat": 4,
 "nbformat_minor": 4
}

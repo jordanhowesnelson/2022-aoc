{
 "cells": [
  {
   "cell_type": "markdown",
   "metadata": {},
   "source": [
    "# AOC"
   ]
  },
  {
   "cell_type": "code",
   "execution_count": 41,
   "metadata": {},
   "outputs": [],
   "source": [
    "import sys  \n",
    "sys.path.insert(0, '../')\n",
    "\n",
    "import aoc\n",
    "\n",
    "from importlib import reload\n",
    "reload(aoc)\n",
    "import aoc"
   ]
  },
  {
   "cell_type": "markdown",
   "metadata": {},
   "source": [
    "# Day 1"
   ]
  },
  {
   "cell_type": "code",
   "execution_count": 2,
   "metadata": {},
   "outputs": [],
   "source": [
    "test = aoc.read_data(1, 'test')\n",
    "test_out = aoc.read_data(1, 'test-output')\n",
    "input_data = aoc.read_data(1, 'input')"
   ]
  },
  {
   "cell_type": "code",
   "execution_count": 3,
   "metadata": {},
   "outputs": [],
   "source": [
    "elf_group = aoc.get_elf_calorie_inventory(test)\n",
    "assert aoc.ask_who_has_most(elf_group) == float(test_out[0])"
   ]
  },
  {
   "cell_type": "code",
   "execution_count": 4,
   "metadata": {},
   "outputs": [],
   "source": [
    "elf_group = aoc.get_elf_calorie_inventory(input_data)\n",
    "assert aoc.ask_who_has_most(elf_group) == 71502"
   ]
  },
  {
   "cell_type": "code",
   "execution_count": 5,
   "metadata": {},
   "outputs": [],
   "source": [
    "assert aoc.ask_who_has_most(elf_group, 3) == 208191"
   ]
  },
  {
   "cell_type": "markdown",
   "metadata": {},
   "source": [
    "# Day 2"
   ]
  },
  {
   "cell_type": "code",
   "execution_count": 6,
   "metadata": {},
   "outputs": [],
   "source": [
    "test = aoc.read_data(2, 'test')\n",
    "test_out = aoc.read_data(2, 'test-output')\n",
    "input_data = aoc.read_data(2, 'input')"
   ]
  },
  {
   "cell_type": "code",
   "execution_count": 7,
   "metadata": {},
   "outputs": [
    {
     "data": {
      "text/plain": [
       "13526"
      ]
     },
     "execution_count": 7,
     "metadata": {},
     "output_type": "execute_result"
    }
   ],
   "source": [
    "assert aoc.RockPaperScissors(test).right_player == int(test_out[0])\n",
    "aoc.RockPaperScissors(input_data).right_player"
   ]
  },
  {
   "cell_type": "code",
   "execution_count": 8,
   "metadata": {},
   "outputs": [],
   "source": [
    "g = aoc.RockPaperScissors(test)\n",
    "g.play_strategy_game()\n",
    "assert g.right_player == 12"
   ]
  },
  {
   "cell_type": "code",
   "execution_count": 9,
   "metadata": {},
   "outputs": [],
   "source": [
    "g = aoc.RockPaperScissors(input_data)\n",
    "g.play_strategy_game()\n",
    "assert g.right_player == 14204"
   ]
  },
  {
   "cell_type": "markdown",
   "metadata": {},
   "source": [
    "# Day 3"
   ]
  },
  {
   "cell_type": "code",
   "execution_count": 10,
   "metadata": {},
   "outputs": [],
   "source": [
    "test = aoc.read_data(3, 'test') #157\n",
    "input_data = aoc.read_data(3, 'input')"
   ]
  },
  {
   "cell_type": "code",
   "execution_count": 11,
   "metadata": {},
   "outputs": [
    {
     "name": "stdout",
     "output_type": "stream",
     "text": [
      "priority total  157\n",
      "priority total  7568\n"
     ]
    }
   ],
   "source": [
    "test_out_, test_priority = aoc.organize_sacks(test)\n",
    "assert test_priority == 157\n",
    "in_out_, input_priority = aoc.organize_sacks(input_data)"
   ]
  },
  {
   "cell_type": "code",
   "execution_count": 12,
   "metadata": {},
   "outputs": [
    {
     "name": "stdout",
     "output_type": "stream",
     "text": [
      "badge total  70\n",
      "badge total  2780\n"
     ]
    }
   ],
   "source": [
    "test_grp_out_, test_badge_total = aoc.get_total_badges(test_out_)\n",
    "assert test_badge_total == 70\n",
    "in_grp_out_, input_badge_total = aoc.get_total_badges(in_out_)"
   ]
  },
  {
   "cell_type": "markdown",
   "metadata": {},
   "source": [
    "# Day 4"
   ]
  },
  {
   "cell_type": "code",
   "execution_count": 13,
   "metadata": {},
   "outputs": [],
   "source": [
    "test = aoc.read_data(4, 'test') #2\n",
    "input_data = aoc.read_data(4, 'input') "
   ]
  },
  {
   "cell_type": "code",
   "execution_count": 14,
   "metadata": {},
   "outputs": [
    {
     "name": "stdout",
     "output_type": "stream",
     "text": [
      "total contained assignments  2\n",
      "total overlapped assignments  4\n",
      "total contained assignments  453\n",
      "total overlapped assignments  919\n"
     ]
    }
   ],
   "source": [
    "clean_test_out, test_assignments = aoc.process_assignments(test)\n",
    "assert test_assignments[0] == 2\n",
    "assert test_assignments[1] == 4\n",
    "clean_input_out, input_assignments = aoc.process_assignments(input_data)"
   ]
  },
  {
   "cell_type": "markdown",
   "metadata": {},
   "source": [
    "# Day 5"
   ]
  },
  {
   "cell_type": "code",
   "execution_count": 15,
   "metadata": {},
   "outputs": [],
   "source": [
    "test = aoc.read_data(5, 'test') #CMZ\n",
    "input_data = aoc.read_data(5, 'input') "
   ]
  },
  {
   "cell_type": "code",
   "execution_count": 16,
   "metadata": {},
   "outputs": [],
   "source": [
    "c = aoc.CrateCrane(test)\n",
    "c.complete_movement()\n",
    "assert c.top_boxes == 'CMZ'\n",
    "\n",
    "i = aoc.CrateCrane(input_data)\n",
    "i.complete_movement()\n",
    "assert i.top_boxes == 'FWNSHLDNZ'"
   ]
  },
  {
   "cell_type": "code",
   "execution_count": 17,
   "metadata": {},
   "outputs": [],
   "source": [
    "c = aoc.CrateCrane(test, False)\n",
    "c.complete_movement()\n",
    "assert c.top_boxes == 'MCD'"
   ]
  },
  {
   "cell_type": "code",
   "execution_count": 18,
   "metadata": {},
   "outputs": [],
   "source": [
    "i = aoc.CrateCrane(input_data, False)\n",
    "i.complete_movement()\n",
    "assert i.top_boxes == 'RNRGDNFQG'"
   ]
  },
  {
   "cell_type": "markdown",
   "metadata": {},
   "source": [
    "# Day 6"
   ]
  },
  {
   "cell_type": "code",
   "execution_count": 19,
   "metadata": {},
   "outputs": [],
   "source": [
    "test = aoc.read_data(6, 'test') #7, 5, 6, 10, 11\n",
    "input_data = aoc.read_data(6, 'input') "
   ]
  },
  {
   "cell_type": "code",
   "execution_count": 20,
   "metadata": {},
   "outputs": [],
   "source": [
    "assert aoc.CommunicationDevice(test[0]).marker_detection == 7\n",
    "assert aoc.CommunicationDevice(test[1]).marker_detection == 5\n",
    "assert aoc.CommunicationDevice(test[2]).marker_detection == 6\n",
    "assert aoc.CommunicationDevice(test[3]).marker_detection == 10\n",
    "assert aoc.CommunicationDevice(test[4]).marker_detection == 11\n",
    "\n",
    "#final\n",
    "assert aoc.CommunicationDevice(input_data[0]).marker_detection == 1909"
   ]
  },
  {
   "cell_type": "code",
   "execution_count": 21,
   "metadata": {},
   "outputs": [],
   "source": [
    "assert aoc.CommunicationDevice(test[0]).message_detection == 19\n",
    "assert aoc.CommunicationDevice(test[1]).message_detection == 23\n",
    "assert aoc.CommunicationDevice(test[2]).message_detection == 23\n",
    "assert aoc.CommunicationDevice(test[3]).message_detection == 29\n",
    "assert aoc.CommunicationDevice(test[4]).message_detection == 26\n",
    "\n",
    "#final\n",
    "assert aoc.CommunicationDevice(input_data[0]).message_detection == 3380"
   ]
  },
  {
   "cell_type": "markdown",
   "metadata": {},
   "source": [
    "# Day 7"
   ]
  },
  {
   "cell_type": "code",
   "execution_count": 22,
   "metadata": {},
   "outputs": [],
   "source": [
    "test = aoc.read_data(7, 'test') #95437\n",
    "input_data = aoc.read_data(7, 'input') "
   ]
  },
  {
   "cell_type": "code",
   "execution_count": 23,
   "metadata": {},
   "outputs": [],
   "source": [
    "t = aoc.FileSystem(test)\n",
    "assert sum(t.get_total_size_limit()) == 95437\n",
    "assert t.get_delete_size() == 24933642 \n",
    "\n",
    "f = aoc.FileSystem(input_data)\n",
    "assert sum(f.get_total_size_limit()) == 2104783  # 2104783\n",
    "assert f.get_delete_size() == 5883165 #5883165"
   ]
  },
  {
   "cell_type": "markdown",
   "metadata": {},
   "source": [
    "# Day 8"
   ]
  },
  {
   "cell_type": "code",
   "execution_count": 24,
   "metadata": {},
   "outputs": [],
   "source": [
    "test = aoc.read_data(8, 'test') #21\n",
    "input_data = aoc.read_data(8, 'input') "
   ]
  },
  {
   "cell_type": "code",
   "execution_count": 25,
   "metadata": {},
   "outputs": [],
   "source": [
    "t = aoc.TreeMap(test)\n",
    "assert t.num_vis == 21\n",
    "\n",
    "f = aoc.TreeMap(input_data)\n",
    "assert f.num_vis == 1787"
   ]
  },
  {
   "cell_type": "code",
   "execution_count": 26,
   "metadata": {},
   "outputs": [],
   "source": [
    "assert t.map_dict[(1, 2)]['sceneCount'] == 4\n",
    "assert t.map_dict[(3, 2)]['sceneCount'] == 8\n",
    "assert t.map_dict[(0, 0)]['sceneCount'] == 0\n",
    "\n",
    "assert t.get_highest_scene() == 8\n",
    "assert f.get_highest_scene() == 440640"
   ]
  },
  {
   "cell_type": "markdown",
   "metadata": {},
   "source": [
    "# Day 9 "
   ]
  },
  {
   "cell_type": "code",
   "execution_count": 27,
   "metadata": {},
   "outputs": [],
   "source": [
    "test = aoc.read_data(9, 'test')\n",
    "testb = aoc.read_data(9, 'testb')\n",
    "input_data = aoc.read_data(9, 'input') "
   ]
  },
  {
   "cell_type": "code",
   "execution_count": 28,
   "metadata": {
    "scrolled": true
   },
   "outputs": [
    {
     "name": "stdout",
     "output_type": "stream",
     "text": [
      "\n"
     ]
    }
   ],
   "source": [
    "t = aoc.Snake(test[0:1])\n",
    "aoc.np.testing.assert_array_equal(t.tail,  [3,0])\n",
    "aoc.np.testing.assert_array_equal(t.head,  [4,0])\n",
    "print()\n",
    "t = aoc.Snake(test[0:8])\n",
    "aoc.np.testing.assert_array_equal(t.tail,  [1,2])\n",
    "aoc.np.testing.assert_array_equal(t.head,  [2,2])\n",
    "assert t.get_space_counts() == 13"
   ]
  },
  {
   "cell_type": "code",
   "execution_count": 29,
   "metadata": {},
   "outputs": [],
   "source": [
    "# add a test for crossing over axis\n",
    "t = aoc.Snake(test[0:8]+['L 19'])\n",
    "aoc.np.testing.assert_array_equal(t.tail,  [-16, 2])\n",
    "aoc.np.testing.assert_array_equal(t.head,  [-17, 2])\n",
    "assert t.get_space_counts() == 30"
   ]
  },
  {
   "cell_type": "code",
   "execution_count": 30,
   "metadata": {},
   "outputs": [],
   "source": [
    "t = aoc.Snake(test[0:8]+['L 19', 'D 20'])\n",
    "aoc.np.testing.assert_array_equal(t.tail,  [-17, -17])\n",
    "aoc.np.testing.assert_array_equal(t.head,  [-17, -18])\n",
    "assert t.get_space_counts() == 49"
   ]
  },
  {
   "cell_type": "code",
   "execution_count": 31,
   "metadata": {},
   "outputs": [],
   "source": [
    "### test moving around the tail to confuse directions\n",
    "t = aoc.Snake(test[0:8]+['U 1', 'L 1', 'L 1', 'D 1', 'U 2'])\n",
    "aoc.np.testing.assert_array_equal(t.tail,  [0, 3])\n",
    "aoc.np.testing.assert_array_equal(t.head,  [0,4])\n",
    "assert t.get_space_counts() == 14"
   ]
  },
  {
   "cell_type": "code",
   "execution_count": 32,
   "metadata": {},
   "outputs": [],
   "source": [
    "i = aoc.Snake(input_data)\n",
    "assert i.get_space_counts() == 6236 "
   ]
  },
  {
   "cell_type": "code",
   "execution_count": 33,
   "metadata": {
    "scrolled": true
   },
   "outputs": [],
   "source": [
    "knots = [f'knot{x}' for x in range(1, 10)]\n",
    "\n",
    "# t = Snake(test[0:1], ['head']+knots)\n",
    "# np.testing.assert_array_equal(t.head,  [4,0])\n",
    "# np.testing.assert_array_equal(t.knot1,  [3,0])\n",
    "# np.testing.assert_array_equal(t.knot2,  [2,0])\n",
    "# np.testing.assert_array_equal(t.knot3,  [1,0])\n",
    "# np.testing.assert_array_equal(t.knot4,  [0,0])\n",
    "# np.testing.assert_array_equal(t.knot5,  [0,0])\n",
    "# print()\n",
    "\n",
    "# t = Snake(test[0:2], ['head']+knots)\n",
    "# np.testing.assert_array_equal(t.head,  [4,4])\n",
    "# np.testing.assert_array_equal(t.knot1,  [4,3])\n",
    "# np.testing.assert_array_equal(t.knot2,  [4,2])\n",
    "# np.testing.assert_array_equal(t.knot3,  [3,2])\n",
    "# np.testing.assert_array_equal(t.knot4,  [2,2])\n",
    "# np.testing.assert_array_equal(t.knot5,  [1,1])\n",
    "# np.testing.assert_array_equal(t.knot6,  [0,0])\n",
    "# np.testing.assert_array_equal(t.knot7,  [0,0])\n",
    "\n",
    "# t = Snake(test, ['head']+knots)\n",
    "# np.testing.assert_array_equal(t.head,  [2,2])\n",
    "# np.testing.assert_array_equal(t.knot1,  [1,2])\n",
    "# np.testing.assert_array_equal(t.knot2,  [2,2])\n",
    "# np.testing.assert_array_equal(t.knot3,  [3,2])\n",
    "# np.testing.assert_array_equal(t.knot4,  [2,2])\n",
    "# np.testing.assert_array_equal(t.knot5,  [1,1])\n",
    "# np.testing.assert_array_equal(t.knot6,  [0,0])\n",
    "# np.testing.assert_array_equal(t.knot7,  [0,0])\n",
    "# assert t.get_space_counts('knot9') == 1\n",
    "\n",
    "# t = Snake(testb[0:1], ['head']+knots)\n",
    "# assert t.get_space_counts('knot9') == 1\n",
    "\n",
    "# t = Snake(testb[0:2], ['head']+knots)\n",
    "# assert t.get_space_counts('knot9') == 1\n",
    "\n",
    "# t = Snake(testb[0:3], ['head']+knots)\n",
    "# assert t.get_space_counts('knot9') == 4\n",
    "\n",
    "# t = Snake(testb[0:4], ['head']+knots)\n",
    "# np.testing.assert_array_equal(t.knot9,  [1,3])\n",
    "# assert t.get_space_counts('knot9') == 4\n",
    "\n",
    "# t = Snake(testb[0:5], ['head']+knots)\n",
    "# np.testing.assert_array_equal(t.knot9,  [5,5])\n",
    "\n",
    "t = aoc.Snake(testb, ['head']+knots)\n",
    "aoc.np.testing.assert_array_equal(t.knot9,  [-11,6])\n",
    "assert t.get_space_counts('knot9') == 36"
   ]
  },
  {
   "cell_type": "code",
   "execution_count": 34,
   "metadata": {},
   "outputs": [],
   "source": [
    "i = aoc.Snake(input_data, ['head']+knots)\n",
    "assert i.get_space_counts('knot9') == 2449 #1804 too low"
   ]
  },
  {
   "cell_type": "markdown",
   "metadata": {},
   "source": [
    "# Day 10"
   ]
  },
  {
   "cell_type": "code",
   "execution_count": 6,
   "metadata": {},
   "outputs": [],
   "source": [
    "test_a = aoc.read_data(10, 'testa')\n",
    "test_b = aoc.read_data(10, 'testb')\n",
    "input_data = aoc.read_data(10, 'input') "
   ]
  },
  {
   "cell_type": "code",
   "execution_count": 7,
   "metadata": {},
   "outputs": [],
   "source": [
    "t = aoc.Tube(test_a, interestings=[20, 60, 100, 140, 180, 220])\n",
    "assert t.cycle == 5\n",
    "assert t.get_register_value() == -1"
   ]
  },
  {
   "cell_type": "code",
   "execution_count": 37,
   "metadata": {},
   "outputs": [],
   "source": [
    "t = aoc.Tube(test_b, interestings=[20, 60, 100, 140, 180, 220])\n",
    "assert t.get_register_value(20) == 21\n",
    "assert t.get_signal_strength(20) == 420\n",
    "\n",
    "assert t.get_register_value(60) == 19\n",
    "assert t.get_signal_strength(60) == 1140\n",
    "\n",
    "assert t.get_register_value(100) == 18\n",
    "assert t.get_signal_strength(100) == 1800\n",
    "\n",
    "assert t.get_register_value(140) == 21\n",
    "assert t.get_signal_strength(140) == 2940\n",
    "\n",
    "assert t.get_register_value(180) == 16\n",
    "assert t.get_signal_strength(180) == 2880\n",
    "\n",
    "assert t.get_register_value(220) == 18\n",
    "assert t.get_signal_strength(220) == 3960\n",
    "\n",
    "assert t.get_interesting_signals() == 13140"
   ]
  },
  {
   "cell_type": "code",
   "execution_count": 38,
   "metadata": {},
   "outputs": [],
   "source": [
    "i = aoc.Tube(input_data, interestings=[20, 60, 100, 140, 180, 220])\n",
    "assert i.get_interesting_signals() == 14760#14200 too low"
   ]
  },
  {
   "cell_type": "code",
   "execution_count": 39,
   "metadata": {},
   "outputs": [
    {
     "name": "stdout",
     "output_type": "stream",
     "text": [
      "\n",
      "##..##..##..##..##..##..##..##..##..##..\n",
      "###...###...###...###...###...###...###.\n",
      "####....####....####....####....####....\n",
      "#####.....#####.....#####.....#####.....\n",
      "######......######......######......####\n",
      "#######.......#######.......#######.....\n"
     ]
    }
   ],
   "source": [
    "t = aoc.Tube(test_b)\n",
    "t.print_console()"
   ]
  },
  {
   "cell_type": "code",
   "execution_count": 40,
   "metadata": {},
   "outputs": [
    {
     "name": "stdout",
     "output_type": "stream",
     "text": [
      "\n",
      "####.####..##..####.###..#..#.###..####.\n",
      "#....#....#..#.#....#..#.#..#.#..#.#....\n",
      "###..###..#....###..#..#.#..#.#..#.###..\n",
      "#....#....#.##.#....###..#..#.###..#....\n",
      "#....#....#..#.#....#.#..#..#.#.#..#....\n",
      "####.#.....###.####.#..#..##..#..#.####.\n"
     ]
    }
   ],
   "source": [
    "i.print_console()"
   ]
  },
  {
   "cell_type": "markdown",
   "metadata": {},
   "source": [
    "# Day 11"
   ]
  },
  {
   "cell_type": "code",
   "execution_count": 42,
   "metadata": {},
   "outputs": [],
   "source": [
    "test = aoc.read_data(11, 'test')\n",
    "input_data = aoc.read_data(11, 'input') "
   ]
  },
  {
   "cell_type": "code",
   "execution_count": 43,
   "metadata": {},
   "outputs": [],
   "source": [
    "from aoc import KeepAway"
   ]
  },
  {
   "cell_type": "code",
   "execution_count": 44,
   "metadata": {},
   "outputs": [],
   "source": [
    "k = KeepAway(test)\n",
    "k.play_around(1)\n",
    "assert [[y.cur_item for y in x.items] for x in k.monkey_list] == [[20, 23, 27, 26], \n",
    "                                            [2080, 25, 167, 207, 401, 1046], \n",
    "                                            [], []]\n",
    "k.play_around(1)\n",
    "\n",
    "assert [[y.cur_item for y in x.items] for x in k.monkey_list] == [[695, 10, 71, 135, 350], \n",
    "                                            [43, 49, 58, 55, 362], \n",
    "                                            [], []]\n",
    "\n",
    "k.play_around(1)\n",
    "\n",
    "assert [[y.cur_item for y in x.items] for x in k.monkey_list] == [[16, 18, 21, 20, 122], \n",
    "                                                                  [1468, 22, 150, 286, 739], \n",
    "                                                                  [], []]"
   ]
  },
  {
   "cell_type": "code",
   "execution_count": 45,
   "metadata": {},
   "outputs": [],
   "source": [
    "k = KeepAway(test)\n",
    "k.play_around(20)\n",
    "\n",
    "assert [[y.cur_item for y in x.items] for x in k.monkey_list] == [[10, 12, 14, 26, 34], [245, 93, 53, 199, 115], [], []]\n",
    "assert [x.inspection_count for x in k.monkey_list] == [101, 95, 7, 105]\n",
    "assert k.get_monkey_business() == 10605"
   ]
  },
  {
   "cell_type": "code",
   "execution_count": 46,
   "metadata": {},
   "outputs": [
    {
     "name": "stdout",
     "output_type": "stream",
     "text": [
      "CPU times: user 4.33 ms, sys: 118 µs, total: 4.45 ms\n",
      "Wall time: 4.47 ms\n"
     ]
    }
   ],
   "source": [
    "%%time\n",
    "i = KeepAway(input_data)\n",
    "i.play_around(20)\n",
    "assert i.get_monkey_business() == 67830"
   ]
  },
  {
   "cell_type": "code",
   "execution_count": 47,
   "metadata": {},
   "outputs": [
    {
     "name": "stdout",
     "output_type": "stream",
     "text": [
      "CPU times: user 346 µs, sys: 0 ns, total: 346 µs\n",
      "Wall time: 351 µs\n"
     ]
    }
   ],
   "source": [
    "%%time\n",
    "k = KeepAway(test, worried=False)\n",
    "k.play_around(1)\n",
    "\n",
    "assert [x.inspection_count for x in k.monkey_list] == [2, 4, 3, 6]"
   ]
  },
  {
   "cell_type": "code",
   "execution_count": 48,
   "metadata": {},
   "outputs": [
    {
     "name": "stdout",
     "output_type": "stream",
     "text": [
      "CPU times: user 186 ms, sys: 3.19 ms, total: 189 ms\n",
      "Wall time: 194 ms\n"
     ]
    }
   ],
   "source": [
    "%%time\n",
    "k = KeepAway(test, worried=False)\n",
    "k.play_around(1000)\n",
    "\n",
    "assert [x.inspection_count for x in k.monkey_list] == [5204, 4792, 199, 5192]"
   ]
  },
  {
   "cell_type": "code",
   "execution_count": 49,
   "metadata": {},
   "outputs": [
    {
     "name": "stdout",
     "output_type": "stream",
     "text": [
      "CPU times: user 1.84 s, sys: 23.9 ms, total: 1.86 s\n",
      "Wall time: 2.02 s\n"
     ]
    }
   ],
   "source": [
    "%%time\n",
    "k = KeepAway(test, worried=False)\n",
    "k.play_around(10000)\n",
    "\n",
    "assert [x.inspection_count for x in k.monkey_list] == [52166, 47830, 1938, 52013]\n",
    "assert k.get_monkey_business() == 2713310158"
   ]
  },
  {
   "cell_type": "code",
   "execution_count": 50,
   "metadata": {},
   "outputs": [
    {
     "name": "stdout",
     "output_type": "stream",
     "text": [
      "CPU times: user 7.18 s, sys: 73.6 ms, total: 7.25 s\n",
      "Wall time: 7.46 s\n"
     ]
    }
   ],
   "source": [
    "%%time\n",
    "i = KeepAway(input_data, worried=False)\n",
    "i.play_around(10000)\n",
    "assert i.get_monkey_business() == 15305381442 #too low 1981026"
   ]
  },
  {
   "cell_type": "code",
   "execution_count": null,
   "metadata": {},
   "outputs": [],
   "source": []
  }
 ],
 "metadata": {
  "kernelspec": {
   "display_name": "Python 3 (ipykernel)",
   "language": "python",
   "name": "python3"
  },
  "language_info": {
   "codemirror_mode": {
    "name": "ipython",
    "version": 3
   },
   "file_extension": ".py",
   "mimetype": "text/x-python",
   "name": "python",
   "nbconvert_exporter": "python",
   "pygments_lexer": "ipython3",
   "version": "3.10.8"
  }
 },
 "nbformat": 4,
 "nbformat_minor": 4
}

{
 "cells": [
  {
   "cell_type": "markdown",
   "metadata": {},
   "source": [
    "# AOC"
   ]
  },
  {
   "cell_type": "code",
   "execution_count": 1,
   "metadata": {},
   "outputs": [],
   "source": [
    "import sys  \n",
    "sys.path.insert(0, '../')\n",
    "\n",
    "import aoc\n",
    "\n",
    "from importlib import reload\n",
    "reload(aoc)\n",
    "import aoc"
   ]
  },
  {
   "cell_type": "markdown",
   "metadata": {},
   "source": [
    "# Day 1"
   ]
  },
  {
   "cell_type": "code",
   "execution_count": 2,
   "metadata": {},
   "outputs": [],
   "source": [
    "test = aoc.read_data(1, 'test')\n",
    "test_out = aoc.read_data(1, 'test-output')\n",
    "input_data = aoc.read_data(1, 'input')"
   ]
  },
  {
   "cell_type": "code",
   "execution_count": 3,
   "metadata": {},
   "outputs": [],
   "source": [
    "elf_group = aoc.get_elf_calorie_inventory(test)\n",
    "assert aoc.ask_who_has_most(elf_group) == float(test_out[0])"
   ]
  },
  {
   "cell_type": "code",
   "execution_count": 4,
   "metadata": {},
   "outputs": [
    {
     "data": {
      "text/plain": [
       "71502"
      ]
     },
     "execution_count": 4,
     "metadata": {},
     "output_type": "execute_result"
    }
   ],
   "source": [
    "elf_group = aoc.get_elf_calorie_inventory(input_data)\n",
    "aoc.ask_who_has_most(elf_group)"
   ]
  },
  {
   "cell_type": "code",
   "execution_count": 5,
   "metadata": {},
   "outputs": [
    {
     "data": {
      "text/plain": [
       "208191"
      ]
     },
     "execution_count": 5,
     "metadata": {},
     "output_type": "execute_result"
    }
   ],
   "source": [
    "aoc.ask_who_has_most(elf_group, 3)"
   ]
  },
  {
   "cell_type": "markdown",
   "metadata": {},
   "source": [
    "# Day 2"
   ]
  },
  {
   "cell_type": "code",
   "execution_count": 6,
   "metadata": {},
   "outputs": [],
   "source": [
    "test = aoc.read_data(2, 'test')\n",
    "test_out = aoc.read_data(2, 'test-output')\n",
    "input_data = aoc.read_data(2, 'input')"
   ]
  },
  {
   "cell_type": "code",
   "execution_count": 7,
   "metadata": {},
   "outputs": [
    {
     "data": {
      "text/plain": [
       "13526"
      ]
     },
     "execution_count": 7,
     "metadata": {},
     "output_type": "execute_result"
    }
   ],
   "source": [
    "assert aoc.RockPaperScissors(test).right_player == int(test_out[0])\n",
    "aoc.RockPaperScissors(input_data).right_player"
   ]
  },
  {
   "cell_type": "code",
   "execution_count": 8,
   "metadata": {},
   "outputs": [],
   "source": [
    "g = aoc.RockPaperScissors(test)\n",
    "g.play_strategy_game()\n",
    "assert g.right_player == 12"
   ]
  },
  {
   "cell_type": "code",
   "execution_count": 9,
   "metadata": {},
   "outputs": [
    {
     "data": {
      "text/plain": [
       "14204"
      ]
     },
     "execution_count": 9,
     "metadata": {},
     "output_type": "execute_result"
    }
   ],
   "source": [
    "g = aoc.RockPaperScissors(input_data)\n",
    "g.play_strategy_game()\n",
    "g.right_player"
   ]
  },
  {
   "cell_type": "markdown",
   "metadata": {},
   "source": [
    "# Day 3"
   ]
  },
  {
   "cell_type": "code",
   "execution_count": 10,
   "metadata": {},
   "outputs": [],
   "source": [
    "test = aoc.read_data(3, 'test') #157\n",
    "input_data = aoc.read_data(3, 'input')"
   ]
  },
  {
   "cell_type": "code",
   "execution_count": 11,
   "metadata": {},
   "outputs": [
    {
     "name": "stdout",
     "output_type": "stream",
     "text": [
      "priority total  157\n",
      "priority total  7568\n"
     ]
    }
   ],
   "source": [
    "test_out_, test_priority = aoc.organize_sacks(test)\n",
    "assert test_priority == 157\n",
    "in_out_, input_priority = aoc.organize_sacks(input_data)"
   ]
  },
  {
   "cell_type": "code",
   "execution_count": 12,
   "metadata": {},
   "outputs": [
    {
     "name": "stdout",
     "output_type": "stream",
     "text": [
      "badge total  70\n",
      "badge total  2780\n"
     ]
    }
   ],
   "source": [
    "test_grp_out_, test_badge_total = aoc.get_total_badges(test_out_)\n",
    "assert test_badge_total == 70\n",
    "in_grp_out_, input_badge_total = aoc.get_total_badges(in_out_)"
   ]
  },
  {
   "cell_type": "markdown",
   "metadata": {},
   "source": [
    "# Day 4"
   ]
  },
  {
   "cell_type": "code",
   "execution_count": 13,
   "metadata": {},
   "outputs": [],
   "source": [
    "test = aoc.read_data(4, 'test') #2\n",
    "input_data = aoc.read_data(4, 'input') "
   ]
  },
  {
   "cell_type": "code",
   "execution_count": 14,
   "metadata": {},
   "outputs": [
    {
     "name": "stdout",
     "output_type": "stream",
     "text": [
      "total contained assignments  2\n",
      "total overlapped assignments  4\n",
      "total contained assignments  453\n",
      "total overlapped assignments  919\n"
     ]
    }
   ],
   "source": [
    "clean_test_out, test_assignments = aoc.process_assignments(test)\n",
    "assert test_assignments[0] == 2\n",
    "assert test_assignments[1] == 4\n",
    "clean_input_out, input_assignments = aoc.process_assignments(input_data)"
   ]
  },
  {
   "cell_type": "markdown",
   "metadata": {},
   "source": [
    "# Day 5"
   ]
  },
  {
   "cell_type": "code",
   "execution_count": 15,
   "metadata": {},
   "outputs": [],
   "source": [
    "test = aoc.read_data(5, 'test') #CMZ\n",
    "input_data = aoc.read_data(5, 'input') "
   ]
  },
  {
   "cell_type": "code",
   "execution_count": 16,
   "metadata": {},
   "outputs": [
    {
     "data": {
      "text/plain": [
       "'FWNSHLDNZ'"
      ]
     },
     "execution_count": 16,
     "metadata": {},
     "output_type": "execute_result"
    }
   ],
   "source": [
    "c = aoc.CrateCrane(test)\n",
    "c.complete_movement()\n",
    "assert c.top_boxes == 'CMZ'\n",
    "\n",
    "i = aoc.CrateCrane(input_data)\n",
    "i.complete_movement()\n",
    "i.top_boxes"
   ]
  },
  {
   "cell_type": "code",
   "execution_count": 17,
   "metadata": {},
   "outputs": [],
   "source": [
    "c = aoc.CrateCrane(test, False)\n",
    "c.complete_movement()\n",
    "assert c.top_boxes == 'MCD'"
   ]
  },
  {
   "cell_type": "code",
   "execution_count": 18,
   "metadata": {},
   "outputs": [
    {
     "data": {
      "text/plain": [
       "'RNRGDNFQG'"
      ]
     },
     "execution_count": 18,
     "metadata": {},
     "output_type": "execute_result"
    }
   ],
   "source": [
    "i = aoc.CrateCrane(input_data, False)\n",
    "i.complete_movement()\n",
    "i.top_boxes"
   ]
  },
  {
   "cell_type": "code",
   "execution_count": null,
   "metadata": {},
   "outputs": [],
   "source": []
  }
 ],
 "metadata": {
  "kernelspec": {
   "display_name": "Python 3 (ipykernel)",
   "language": "python",
   "name": "python3"
  },
  "language_info": {
   "codemirror_mode": {
    "name": "ipython",
    "version": 3
   },
   "file_extension": ".py",
   "mimetype": "text/x-python",
   "name": "python",
   "nbconvert_exporter": "python",
   "pygments_lexer": "ipython3",
   "version": "3.10.8"
  }
 },
 "nbformat": 4,
 "nbformat_minor": 4
}
